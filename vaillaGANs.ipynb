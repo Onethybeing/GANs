{
  "nbformat": 4,
  "nbformat_minor": 0,
  "metadata": {
    "colab": {
      "provenance": [],
      "gpuType": "T4",
      "authorship_tag": "ABX9TyOvhT/71Iy1Mcds+jQdFHR2",
      "include_colab_link": true
    },
    "kernelspec": {
      "name": "python3",
      "display_name": "Python 3"
    },
    "language_info": {
      "name": "python"
    },
    "accelerator": "GPU"
  },
  "cells": [
    {
      "cell_type": "markdown",
      "metadata": {
        "id": "view-in-github",
        "colab_type": "text"
      },
      "source": [
        "<a href=\"https://colab.research.google.com/github/Onethybeing/GANs/blob/main/vaillaGANs.ipynb\" target=\"_parent\"><img src=\"https://colab.research.google.com/assets/colab-badge.svg\" alt=\"Open In Colab\"/></a>"
      ]
    },
    {
      "cell_type": "code",
      "source": [
        "torch.cuda.is_available()"
      ],
      "metadata": {
        "colab": {
          "base_uri": "https://localhost:8080/"
        },
        "id": "aEBEBf7WU8Tu",
        "outputId": "48237930-bab0-4630-fa0a-7be63eb22ce5"
      },
      "execution_count": 5,
      "outputs": [
        {
          "output_type": "execute_result",
          "data": {
            "text/plain": [
              "True"
            ]
          },
          "metadata": {},
          "execution_count": 5
        }
      ]
    },
    {
      "cell_type": "code",
      "execution_count": 3,
      "metadata": {
        "id": "BCWQ4bUMUXbf"
      },
      "outputs": [],
      "source": [
        "import torch\n",
        "import torch.nn as nn\n",
        "import torch.optim as optim\n",
        "from torchvision import datasets,transforms\n",
        "from torch.utils.data import DataLoader"
      ]
    },
    {
      "cell_type": "code",
      "source": [
        "latent_dim = 100\n",
        "batch_size = 64\n",
        "lr = 0.0002\n",
        "epochs = 50\n",
        "device = \"cuda\" if torch.cuda.is_available() else \"cpu\""
      ],
      "metadata": {
        "id": "FuAAOFGLUwXe"
      },
      "execution_count": 4,
      "outputs": []
    },
    {
      "cell_type": "markdown",
      "source": [
        "###Generator"
      ],
      "metadata": {
        "id": "d37ShU-CYH2O"
      }
    },
    {
      "cell_type": "code",
      "source": [
        "class Generator(nn.Module):\n",
        "  def __init__(self):\n",
        "    super(Generator,self).__init__()\n",
        "    self.model = nn.Sequential(\n",
        "        nn.Linear(latent_dim,256),\n",
        "        nn.LeakyReLU(0.2,inplace=True),\n",
        "        nn.Linear(256,512),\n",
        "        nn.LeakyReLU(0.2,inplace= True),\n",
        "        nn.Linear(512,1024),\n",
        "        nn.LeakyReLU(0.2,inplace=True),\n",
        "        nn.Linear(1024,28*28),\n",
        "        nn.Tanh()\n",
        "    )\n",
        "  def forward(self,x):\n",
        "    return self.model(x).view(-1,1,28,28)"
      ],
      "metadata": {
        "id": "JtTpKrMnU4zY"
      },
      "execution_count": 8,
      "outputs": []
    },
    {
      "cell_type": "markdown",
      "source": [
        "###Discriminator"
      ],
      "metadata": {
        "id": "RlWv5lmpYLZP"
      }
    },
    {
      "cell_type": "code",
      "source": [
        "class Discriminator(nn.Module):\n",
        "  def __init__(self):\n",
        "    super(Discriminator,self).__init__()\n",
        "    self.model = nn.Sequential(\n",
        "        nn.Linear(28*28,512),\n",
        "        nn.LeakyReLU(0.2,inplace= True),\n",
        "        nn.Linear(512,256),\n",
        "        nn.LeakyReLU(0.2,inplace=True),\n",
        "        nn.Linear(256,1),\n",
        "        nn.Sigmoid()\n",
        "    )\n",
        "  def forward(self,x):\n",
        "    return self.model(x.view(-1,28*28))\n",
        "\n",
        "generator = Generator().to(device)\n",
        "discriminator = Discriminator().to(device)"
      ],
      "metadata": {
        "id": "uxg-PBWIYGYB"
      },
      "execution_count": 9,
      "outputs": []
    },
    {
      "cell_type": "code",
      "source": [
        "criterion = nn.BCELoss()\n",
        "optimizer_G = optim.Adam(generator.parameters(),lr=lr,betas=(0.5,0.999))\n",
        "optimizer_D = optim.Adam(discriminator.parameters(),lr = lr,betas=(0.5,0.999))\n",
        "transform = transforms.Compose([\n",
        "    transforms.ToTensor(),\n",
        "    transforms.Normalize([0.5],[0.5])\n",
        "])\n",
        "dataloader = DataLoader(datasets.MNIST(\"./daat\",train = True,download=True,transform =transform),batch_size = batch_size,shuffle = True)\n",
        "for epochs in range(epochs):\n",
        "  for i,(imgs, _) in enumerate(dataloader):\n",
        "    real = imgs.to(device)\n",
        "    batch_size = real.size(0)\n",
        "\n",
        "    #labels\n",
        "    real_labels = torch.ones(batch_size,1).to(device)\n",
        "    fake_labels = torch.zeros(batch_size,1).to(device)\n",
        "\n",
        "    #train DIscriminator\n",
        "    x = torch.randn(batch_size,latent_dim).to(device)\n",
        "    fake = generator(x)\n",
        "    real_loss = criterion(discriminator(real),real_labels)\n",
        "    fake_loss = criterion(discriminator(fake.detach()),fake_labels)\n",
        "    d_loss = real_loss + fake_loss\n",
        "    optimizer_D.zero_grad()\n",
        "    d_loss.backward()\n",
        "    optimizer_D.step()\n",
        "\n",
        "    #train generator\n",
        "    fake_loss = criterion(discriminator(fake),real_labels)\n",
        "    optimizer_G.zero_grad()\n",
        "    fake_loss.bacward()\n",
        "    optimizer_G.step()\n",
        "\n",
        "  print(f\"Epochs {epochs+1}/{epochs} | D Loss : {d_loss.item():.4f}| G Loss: {fake_loss.item():.4f}\")\n"
      ],
      "metadata": {
        "id": "wi2kBMktaVi1"
      },
      "execution_count": 12,
      "outputs": []
    },
    {
      "cell_type": "code",
      "source": [],
      "metadata": {
        "id": "OqaEn_Lvf09n"
      },
      "execution_count": null,
      "outputs": []
    }
  ]
}